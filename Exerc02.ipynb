{
  "nbformat": 4,
  "nbformat_minor": 0,
  "metadata": {
    "colab": {
      "provenance": []
    },
    "kernelspec": {
      "name": "python3",
      "display_name": "Python 3"
    },
    "language_info": {
      "name": "python"
    }
  },
  "cells": [
    {
      "cell_type": "code",
      "execution_count": null,
      "metadata": {
        "id": "_UpEaVQcgi5s"
      },
      "outputs": [],
      "source": []
    },
    {
      "cell_type": "markdown",
      "source": [
        "Suponha que as features (i.e., atributos) do seu conjunto de treinamento tenham\n",
        "escalas muito diferentes. Qual técnica de regressão linear pode sofrer com isso e\n",
        "como? O que pode ser feito para mitigar este problema?"
      ],
      "metadata": {
        "id": "9XUCKe6fgjkm"
      }
    },
    {
      "cell_type": "markdown",
      "source": [
        "Resposta: Algoritmos de regressão linear, especialmente aqueles que utilizam gradiente descendente, podem ser significativamente impactados quando as variáveis de entrada apresentam escalas muito distintas. Isso ocorre porque atributos com magnitudes maiores tendem a dominar o processo de otimização, conduzindo o modelo a uma convergência mais lenta ou mesmo instável.\n",
        "\n",
        "Para mitigar esse problema, é recomendável aplicar técnicas de normalização ou padronização dos dados antes do treinamento. A normalização Min-Max, que reescala os dados para um intervalo fixo (geralmente entre 0 e 1), é útil quando os dados são distribuídos de forma aproximadamente uniforme, mas é sensível a outliers. Já a padronização (Z-score), que transforma os dados com média zero e desvio padrão unitário, é mais robusta em presença de valores extremos e, por isso, é amplamente utilizada, especialmente quando se empregam algoritmos baseados em otimização iterativa, como regressão com regularização ou redes neurais.\n",
        "\n",
        "Portanto, o pré-processamento das features é essencial para garantir desempenho estável e justo entre variáveis de diferentes escalas."
      ],
      "metadata": {
        "id": "Y6LaCzEIgpqr"
      }
    }
  ]
}